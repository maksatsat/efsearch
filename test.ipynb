{
 "cells": [
  {
   "cell_type": "code",
   "execution_count": 1,
   "id": "eefa74a7",
   "metadata": {},
   "outputs": [
    {
     "name": "stderr",
     "output_type": "stream",
     "text": [
      "/Library/Frameworks/Python.framework/Versions/3.10/lib/python3.10/site-packages/stingray/largememory.py:25: UserWarning: Large Datasets may not be processed efficiently due to computational constraints\n",
      "  warnings.warn(\n"
     ]
    }
   ],
   "source": [
    "%matplotlib notebook\n",
    "import numpy as np\n",
    "from stingray.pulse.search import epoch_folding_search\n",
    "import matplotlib.pyplot as plt\n",
    "from stingray import Lightcurve"
   ]
  },
  {
   "cell_type": "code",
   "execution_count": 2,
   "id": "e4f2b5db",
   "metadata": {},
   "outputs": [],
   "source": [
    "def sinusoid(times, frequency, baseline, amplitude, phase):\n",
    "    return baseline + amplitude * np.sin(2 * np.pi * (frequency * times + phase))"
   ]
  },
  {
   "cell_type": "code",
   "execution_count": 3,
   "id": "be785de5",
   "metadata": {},
   "outputs": [
    {
     "name": "stderr",
     "output_type": "stream",
     "text": [
      "WARNING:root:Checking if light curve is well behaved. This can take time, so if you are sure it is already sorted, specify skip_checks=True at light curve creation.\n",
      "WARNING:root:Checking if light curve is sorted.\n"
     ]
    }
   ],
   "source": [
    "from stingray import Lightcurve\n",
    "\n",
    "period = 1.203501\n",
    "mean_countrate = 50\n",
    "pulsed_fraction = 0.2\n",
    "bin_time = 0.01\n",
    "obs_length = 3000\n",
    "\n",
    "t = np.arange(0, obs_length, bin_time)\n",
    "\n",
    "# The continuous light curve\n",
    "counts = sinusoid(t, 1 / period, mean_countrate,\n",
    "                  0.5 * mean_countrate * pulsed_fraction, 0) * bin_time\n",
    "lc = Lightcurve(t, counts, gti=[[-bin_time / 2, obs_length + bin_time / 2]],\n",
    "                dt=bin_time)"
   ]
  },
  {
   "cell_type": "code",
   "execution_count": 4,
   "id": "22da126d",
   "metadata": {},
   "outputs": [],
   "source": [
    "from stingray.events import EventList\n",
    "\n",
    "# use the light curve above to simulate an event list for this pulsar.\n",
    "events = EventList()\n",
    "events.simulate_times(lc)"
   ]
  },
  {
   "cell_type": "code",
   "execution_count": 8,
   "id": "adc331a0",
   "metadata": {},
   "outputs": [
    {
     "data": {
      "text/plain": [
       "array([3.12216063e-03, 5.85733945e-03, 2.27431805e-02, ...,\n",
       "       2.99997260e+03, 2.99998342e+03, 2.99999482e+03])"
      ]
     },
     "execution_count": 8,
     "metadata": {},
     "output_type": "execute_result"
    }
   ],
   "source": [
    "events.time"
   ]
  },
  {
   "cell_type": "code",
   "execution_count": null,
   "id": "07c8112c",
   "metadata": {},
   "outputs": [],
   "source": [
    "import ef_search.search"
   ]
  }
 ],
 "metadata": {
  "kernelspec": {
   "display_name": "Python 3 (ipykernel)",
   "language": "python",
   "name": "python3"
  },
  "language_info": {
   "codemirror_mode": {
    "name": "ipython",
    "version": 3
   },
   "file_extension": ".py",
   "mimetype": "text/x-python",
   "name": "python",
   "nbconvert_exporter": "python",
   "pygments_lexer": "ipython3",
   "version": "3.10.0"
  }
 },
 "nbformat": 4,
 "nbformat_minor": 5
}
